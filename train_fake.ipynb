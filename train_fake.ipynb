{
  "nbformat": 4,
  "nbformat_minor": 0,
  "metadata": {
    "colab": {
      "name": "train_fake.ipynb",
      "provenance": [],
      "collapsed_sections": []
    },
    "kernelspec": {
      "name": "python3",
      "display_name": "Python 3"
    },
    "accelerator": "GPU"
  },
  "cells": [
    {
      "cell_type": "code",
      "metadata": {
        "id": "k5asNC1DI1gZ",
        "colab_type": "code",
        "outputId": "68858c8a-bf68-4797-a07d-e0999d66d33c",
        "colab": {
          "base_uri": "https://localhost:8080/",
          "height": 127
        }
      },
      "source": [
        "from google.colab import drive\n",
        "drive.mount('/content/drive')"
      ],
      "execution_count": 1,
      "outputs": [
        {
          "output_type": "stream",
          "text": [
            "Go to this URL in a browser: https://accounts.google.com/o/oauth2/auth?client_id=947318989803-6bn6qk8qdgf4n4g3pfee6491hc0brc4i.apps.googleusercontent.com&redirect_uri=urn%3Aietf%3Awg%3Aoauth%3A2.0%3Aoob&scope=email%20https%3A%2F%2Fwww.googleapis.com%2Fauth%2Fdocs.test%20https%3A%2F%2Fwww.googleapis.com%2Fauth%2Fdrive%20https%3A%2F%2Fwww.googleapis.com%2Fauth%2Fdrive.photos.readonly%20https%3A%2F%2Fwww.googleapis.com%2Fauth%2Fpeopleapi.readonly&response_type=code\n",
            "\n",
            "Enter your authorization code:\n",
            "··········\n",
            "Mounted at /content/drive\n"
          ],
          "name": "stdout"
        }
      ]
    },
    {
      "cell_type": "code",
      "metadata": {
        "id": "MOGEobAuJVjE",
        "colab_type": "code",
        "outputId": "a5f51399-2d40-4bbb-c0d1-5344916b7b19",
        "colab": {
          "base_uri": "https://localhost:8080/",
          "height": 35
        }
      },
      "source": [
        "ls"
      ],
      "execution_count": 4,
      "outputs": [
        {
          "output_type": "stream",
          "text": [
            "\u001b[0m\u001b[01;34mdataset\u001b[0m/  dataset.zip  helper.py  \u001b[01;34mmrcnn\u001b[0m/  \u001b[01;34m__pycache__\u001b[0m/  train_fake.ipynb\n"
          ],
          "name": "stdout"
        }
      ]
    },
    {
      "cell_type": "code",
      "metadata": {
        "id": "8zJSz5WpqsRN",
        "colab_type": "code",
        "outputId": "02f72c55-c65b-41a5-8ffb-a454e81f799d",
        "colab": {
          "base_uri": "https://localhost:8080/",
          "height": 35
        }
      },
      "source": [
        "# cd /content/drive/'My Drive'/Colab_Notebooks/"
      ],
      "execution_count": 3,
      "outputs": [
        {
          "output_type": "stream",
          "text": [
            "/content/drive/My Drive/Colab_Notebooks\n"
          ],
          "name": "stdout"
        }
      ]
    },
    {
      "cell_type": "code",
      "metadata": {
        "id": "0QEX9_M4O8Oe",
        "colab_type": "code",
        "outputId": "15677936-77ec-490a-b8b9-e3ed52fe95c4",
        "colab": {
          "base_uri": "https://localhost:8080/",
          "height": 71
        }
      },
      "source": [
        "# !unzip dataset.zip"
      ],
      "execution_count": 0,
      "outputs": [
        {
          "output_type": "stream",
          "text": [
            "shell-init: error retrieving current directory: getcwd: cannot access parent directories: Transport endpoint is not connected\n",
            "unzip:  cannot find or open dataset.zip, dataset.zip.zip or dataset.zip.ZIP.\n"
          ],
          "name": "stdout"
        }
      ]
    },
    {
      "cell_type": "code",
      "metadata": {
        "id": "0YADmbwFVz2w",
        "colab_type": "code",
        "outputId": "f87701bb-55b9-42fb-ef76-13e09c798e20",
        "colab": {
          "base_uri": "https://localhost:8080/",
          "height": 82
        }
      },
      "source": [
        "# -*- coding: utf-8 -*-\n",
        "\n",
        "import pandas as pd\n",
        "import numpy as np\n",
        "import matplotlib.pyplot as plt\n",
        "import matplotlib.image as mpimg\n",
        "import seaborn as sns\n",
        "import helper \n",
        "import pickle\n",
        "from helper import seprateImagesInClasses, creatELADataSet\n",
        "import shutil\n",
        "import glob\n",
        "\n",
        "%matplotlib inline\n",
        "\n",
        "np.random.seed(2)\n",
        "\n",
        "from sklearn.model_selection import train_test_split\n",
        "from sklearn.metrics import confusion_matrix\n",
        "import itertools\n",
        "\n",
        "from keras.utils.np_utils import to_categorical # convert to one-hot-encoding\n",
        "from keras.models import Sequential\n",
        "from keras.layers import Dense, Dropout, Flatten, Conv2D, MaxPool2D\n",
        "from keras.optimizers import RMSprop, Adam\n",
        "from keras.preprocessing.image import ImageDataGenerator\n",
        "from keras.callbacks import ReduceLROnPlateau, EarlyStopping\n",
        "\n",
        "sns.set(style='white', context='notebook', palette='deep')\n",
        "\n",
        "from PIL import Image\n",
        "import os\n",
        "from pylab import *\n",
        "import re\n",
        "from PIL import Image, ImageChops, ImageEnhance"
      ],
      "execution_count": 5,
      "outputs": [
        {
          "output_type": "display_data",
          "data": {
            "text/html": [
              "<p style=\"color: red;\">\n",
              "The default version of TensorFlow in Colab will soon switch to TensorFlow 2.x.<br>\n",
              "We recommend you <a href=\"https://www.tensorflow.org/guide/migrate\" target=\"_blank\">upgrade</a> now \n",
              "or ensure your notebook will continue to use TensorFlow 1.x via the <code>%tensorflow_version 1.x</code> magic:\n",
              "<a href=\"https://colab.research.google.com/notebooks/tensorflow_version.ipynb\" target=\"_blank\">more info</a>.</p>\n"
            ],
            "text/plain": [
              "<IPython.core.display.HTML object>"
            ]
          },
          "metadata": {
            "tags": []
          }
        },
        {
          "output_type": "stream",
          "text": [
            "Using TensorFlow backend.\n"
          ],
          "name": "stderr"
        }
      ]
    },
    {
      "cell_type": "code",
      "metadata": {
        "id": "9fPlsrw4Vz0f",
        "colab_type": "code",
        "colab": {}
      },
      "source": [
        "flag = 'colab'\n",
        "\n",
        "if 'colab' == flag:\n",
        "  root_dir = '/content/drive/My Drive/Colab_Notebooks'\n",
        "elif 'linux' == flag:\n",
        "  root_dir = os.path.abspath(\"/home/g1g/Desktop/splice-detection\")\n",
        "else:\n",
        "  root_dir = os.path.abspath(r\"d:/home/g1g/Desktop/splice-detection\")\n",
        "\n",
        "# baseDataSetPath = os.path.join(root_dir, 'dataset')\n",
        "dataSetPath = os.path.join(root_dir, 'dataset')\n",
        "\n",
        "manipulated = 'manipulated'\n",
        "non_manipulated = 'non_manipulated'\n",
        "\n",
        "\n",
        "# X, Y, Xp, Yp = creatELADataSet(dataSetPath)"
      ],
      "execution_count": 0,
      "outputs": []
    },
    {
      "cell_type": "code",
      "metadata": {
        "id": "54Tf2XY8VzyE",
        "colab_type": "code",
        "colab": {}
      },
      "source": [
        "\n",
        "\n",
        "# save pickle\n",
        "# with open('ELAdataset.pickle', 'wb') as f:\n",
        "#     pickle.dump((X, Y, Xp, Yp), f)\n",
        "\n",
        "# load pickl()\n",
        "\n",
        "with open('ELAdataset.pickle', 'rb') as f:\n",
        "    X, Y, Xp, Yp = pickle.load(f)"
      ],
      "execution_count": 0,
      "outputs": []
    },
    {
      "cell_type": "code",
      "metadata": {
        "id": "S03yrt0yVzuG",
        "colab_type": "code",
        "colab": {
          "base_uri": "https://localhost:8080/",
          "height": 811
        },
        "outputId": "5c8c5d01-d67a-46e2-92b1-b1dc8ba692f8"
      },
      "source": [
        "X_train, X_val, Y_train, Y_val = train_test_split(Xp, Yp, test_size = 0.2, random_state=5)\n",
        "\n",
        "model = Sequential()\n",
        "\n",
        "model.add(Conv2D(filters = 32, kernel_size = (5,5),padding = 'valid', \n",
        "                 activation ='relu', input_shape = (128,128,3)))\n",
        "print(\"Input: \", model.input_shape)\n",
        "print(\"Output: \", model.output_shape)\n",
        "\n",
        "model.add(Conv2D(filters = 32, kernel_size = (5,5),padding = 'valid', \n",
        "                 activation ='relu'))\n",
        "print(\"Input: \", model.input_shape)\n",
        "print(\"Output: \", model.output_shape)\n",
        "\n",
        "model.add(MaxPool2D(pool_size=(2,2)))\n",
        "\n",
        "model.add(Dropout(0.25))\n",
        "print(\"Input: \", model.input_shape)\n",
        "print(\"Output: \", model.output_shape)\n",
        "\n",
        "model.add(Flatten())\n",
        "model.add(Dense(256, activation = \"relu\"))\n",
        "model.add(Dropout(0.5))\n",
        "model.add(Dense(2, activation = \"softmax\"))\n",
        "  \n",
        "model.summary()"
      ],
      "execution_count": 8,
      "outputs": [
        {
          "output_type": "stream",
          "text": [
            "WARNING:tensorflow:From /usr/local/lib/python3.6/dist-packages/keras/backend/tensorflow_backend.py:66: The name tf.get_default_graph is deprecated. Please use tf.compat.v1.get_default_graph instead.\n",
            "\n",
            "WARNING:tensorflow:From /usr/local/lib/python3.6/dist-packages/keras/backend/tensorflow_backend.py:541: The name tf.placeholder is deprecated. Please use tf.compat.v1.placeholder instead.\n",
            "\n",
            "WARNING:tensorflow:From /usr/local/lib/python3.6/dist-packages/keras/backend/tensorflow_backend.py:4432: The name tf.random_uniform is deprecated. Please use tf.random.uniform instead.\n",
            "\n",
            "Input:  (None, 128, 128, 3)\n",
            "Output:  (None, 124, 124, 32)\n",
            "Input:  (None, 128, 128, 3)\n",
            "Output:  (None, 120, 120, 32)\n",
            "WARNING:tensorflow:From /usr/local/lib/python3.6/dist-packages/keras/backend/tensorflow_backend.py:4267: The name tf.nn.max_pool is deprecated. Please use tf.nn.max_pool2d instead.\n",
            "\n",
            "WARNING:tensorflow:From /usr/local/lib/python3.6/dist-packages/keras/backend/tensorflow_backend.py:148: The name tf.placeholder_with_default is deprecated. Please use tf.compat.v1.placeholder_with_default instead.\n",
            "\n",
            "WARNING:tensorflow:From /usr/local/lib/python3.6/dist-packages/keras/backend/tensorflow_backend.py:3733: calling dropout (from tensorflow.python.ops.nn_ops) with keep_prob is deprecated and will be removed in a future version.\n",
            "Instructions for updating:\n",
            "Please use `rate` instead of `keep_prob`. Rate should be set to `rate = 1 - keep_prob`.\n",
            "Input:  (None, 128, 128, 3)\n",
            "Output:  (None, 60, 60, 32)\n",
            "Model: \"sequential_1\"\n",
            "_________________________________________________________________\n",
            "Layer (type)                 Output Shape              Param #   \n",
            "=================================================================\n",
            "conv2d_1 (Conv2D)            (None, 124, 124, 32)      2432      \n",
            "_________________________________________________________________\n",
            "conv2d_2 (Conv2D)            (None, 120, 120, 32)      25632     \n",
            "_________________________________________________________________\n",
            "max_pooling2d_1 (MaxPooling2 (None, 60, 60, 32)        0         \n",
            "_________________________________________________________________\n",
            "dropout_1 (Dropout)          (None, 60, 60, 32)        0         \n",
            "_________________________________________________________________\n",
            "flatten_1 (Flatten)          (None, 115200)            0         \n",
            "_________________________________________________________________\n",
            "dense_1 (Dense)              (None, 256)               29491456  \n",
            "_________________________________________________________________\n",
            "dropout_2 (Dropout)          (None, 256)               0         \n",
            "_________________________________________________________________\n",
            "dense_2 (Dense)              (None, 2)                 514       \n",
            "=================================================================\n",
            "Total params: 29,520,034\n",
            "Trainable params: 29,520,034\n",
            "Non-trainable params: 0\n",
            "_________________________________________________________________\n"
          ],
          "name": "stdout"
        }
      ]
    },
    {
      "cell_type": "code",
      "metadata": {
        "id": "eIyN81YCVzdZ",
        "colab_type": "code",
        "colab": {
          "base_uri": "https://localhost:8080/",
          "height": 1000
        },
        "outputId": "2c58ec70-286a-44ac-df3e-a31048a69ef5"
      },
      "source": [
        "optimizer = Adam(lr=0.0005, beta_1=0.9, beta_2=0.999)\n",
        "model.compile(optimizer = optimizer , loss = \"categorical_crossentropy\", metrics=[\"accuracy\"])\n",
        "\n",
        "#early_stopping = EarlyStopping(monitor='val_acc',\n",
        "#                              min_delta=0,\n",
        "#                              patience=2,\n",
        "#                              verbose=0, mode='auto')\n",
        "\n",
        "epochs = 50\n",
        "batch_size = 100\n",
        "#callbacks=[early_stopping]\n",
        "history = model.fit(X_train, Y_train, batch_size = batch_size, epochs = epochs, \n",
        "          validation_data = (X_val, Y_val), verbose = 2, shuffle=True)\n",
        "\n",
        "# Plot the loss and accuracy curves for training and validation \n",
        "fig, ax = plt.subplots(2,1)\n",
        "ax[0].plot(history.history['loss'], color='b', label=\"Training loss\")\n",
        "ax[0].plot(history.history['val_loss'], color='r', label=\"validation loss\",axes =ax[0])\n",
        "legend = ax[0].legend(loc='best', shadow=True)\n",
        "\n",
        "ax[1].plot(history.history['acc'], color='b', label=\"Training accuracy\")\n",
        "ax[1].plot(history.history['val_acc'], color='r',label=\"Validation accuracy\")\n",
        "legend = ax[1].legend(loc='best', shadow=True)\n"
      ],
      "execution_count": 9,
      "outputs": [
        {
          "output_type": "stream",
          "text": [
            "WARNING:tensorflow:From /usr/local/lib/python3.6/dist-packages/keras/optimizers.py:793: The name tf.train.Optimizer is deprecated. Please use tf.compat.v1.train.Optimizer instead.\n",
            "\n",
            "WARNING:tensorflow:From /usr/local/lib/python3.6/dist-packages/keras/backend/tensorflow_backend.py:3576: The name tf.log is deprecated. Please use tf.math.log instead.\n",
            "\n",
            "WARNING:tensorflow:From /usr/local/lib/python3.6/dist-packages/tensorflow_core/python/ops/math_grad.py:1424: where (from tensorflow.python.ops.array_ops) is deprecated and will be removed in a future version.\n",
            "Instructions for updating:\n",
            "Use tf.where in 2.0, which has the same broadcast rule as np.where\n",
            "WARNING:tensorflow:From /usr/local/lib/python3.6/dist-packages/keras/backend/tensorflow_backend.py:1033: The name tf.assign_add is deprecated. Please use tf.compat.v1.assign_add instead.\n",
            "\n",
            "WARNING:tensorflow:From /usr/local/lib/python3.6/dist-packages/keras/backend/tensorflow_backend.py:1020: The name tf.assign is deprecated. Please use tf.compat.v1.assign instead.\n",
            "\n",
            "WARNING:tensorflow:From /usr/local/lib/python3.6/dist-packages/keras/backend/tensorflow_backend.py:3005: The name tf.Session is deprecated. Please use tf.compat.v1.Session instead.\n",
            "\n",
            "Train on 1393 samples, validate on 349 samples\n",
            "Epoch 1/50\n",
            "WARNING:tensorflow:From /usr/local/lib/python3.6/dist-packages/keras/backend/tensorflow_backend.py:190: The name tf.get_default_session is deprecated. Please use tf.compat.v1.get_default_session instead.\n",
            "\n",
            "WARNING:tensorflow:From /usr/local/lib/python3.6/dist-packages/keras/backend/tensorflow_backend.py:197: The name tf.ConfigProto is deprecated. Please use tf.compat.v1.ConfigProto instead.\n",
            "\n",
            "WARNING:tensorflow:From /usr/local/lib/python3.6/dist-packages/keras/backend/tensorflow_backend.py:207: The name tf.global_variables is deprecated. Please use tf.compat.v1.global_variables instead.\n",
            "\n",
            "WARNING:tensorflow:From /usr/local/lib/python3.6/dist-packages/keras/backend/tensorflow_backend.py:216: The name tf.is_variable_initialized is deprecated. Please use tf.compat.v1.is_variable_initialized instead.\n",
            "\n",
            "WARNING:tensorflow:From /usr/local/lib/python3.6/dist-packages/keras/backend/tensorflow_backend.py:223: The name tf.variables_initializer is deprecated. Please use tf.compat.v1.variables_initializer instead.\n",
            "\n",
            " - 14s - loss: 0.6257 - acc: 0.6648 - val_loss: 0.5434 - val_acc: 0.7077\n",
            "Epoch 2/50\n",
            " - 3s - loss: 0.5075 - acc: 0.7200 - val_loss: 0.4793 - val_acc: 0.7278\n",
            "Epoch 3/50\n",
            " - 3s - loss: 0.3979 - acc: 0.8155 - val_loss: 0.3904 - val_acc: 0.8453\n",
            "Epoch 4/50\n",
            " - 3s - loss: 0.3065 - acc: 0.8808 - val_loss: 0.3656 - val_acc: 0.8453\n",
            "Epoch 5/50\n",
            " - 3s - loss: 0.2472 - acc: 0.9045 - val_loss: 0.3255 - val_acc: 0.8711\n",
            "Epoch 6/50\n",
            " - 3s - loss: 0.1900 - acc: 0.9347 - val_loss: 0.2993 - val_acc: 0.8797\n",
            "Epoch 7/50\n",
            " - 3s - loss: 0.1726 - acc: 0.9447 - val_loss: 0.2736 - val_acc: 0.9112\n",
            "Epoch 8/50\n",
            " - 3s - loss: 0.1298 - acc: 0.9598 - val_loss: 0.2698 - val_acc: 0.9083\n",
            "Epoch 9/50\n",
            " - 3s - loss: 0.1032 - acc: 0.9706 - val_loss: 0.2619 - val_acc: 0.9140\n",
            "Epoch 10/50\n",
            " - 3s - loss: 0.0978 - acc: 0.9698 - val_loss: 0.2570 - val_acc: 0.9112\n",
            "Epoch 11/50\n",
            " - 3s - loss: 0.0884 - acc: 0.9749 - val_loss: 0.2579 - val_acc: 0.9198\n",
            "Epoch 12/50\n",
            " - 3s - loss: 0.0869 - acc: 0.9749 - val_loss: 0.3045 - val_acc: 0.8825\n",
            "Epoch 13/50\n",
            " - 3s - loss: 0.0787 - acc: 0.9763 - val_loss: 0.3388 - val_acc: 0.8940\n",
            "Epoch 14/50\n",
            " - 3s - loss: 0.0756 - acc: 0.9756 - val_loss: 0.2861 - val_acc: 0.8968\n",
            "Epoch 15/50\n",
            " - 3s - loss: 0.0671 - acc: 0.9749 - val_loss: 0.3082 - val_acc: 0.9026\n",
            "Epoch 16/50\n",
            " - 3s - loss: 0.0836 - acc: 0.9734 - val_loss: 0.2872 - val_acc: 0.9169\n",
            "Epoch 17/50\n",
            " - 3s - loss: 0.0826 - acc: 0.9763 - val_loss: 0.3117 - val_acc: 0.9054\n",
            "Epoch 18/50\n",
            " - 3s - loss: 0.0741 - acc: 0.9770 - val_loss: 0.3052 - val_acc: 0.9140\n",
            "Epoch 19/50\n",
            " - 3s - loss: 0.0618 - acc: 0.9770 - val_loss: 0.2937 - val_acc: 0.9226\n",
            "Epoch 20/50\n",
            " - 3s - loss: 0.0645 - acc: 0.9799 - val_loss: 0.2982 - val_acc: 0.9284\n",
            "Epoch 21/50\n",
            " - 3s - loss: 0.0618 - acc: 0.9756 - val_loss: 0.3092 - val_acc: 0.9140\n",
            "Epoch 22/50\n",
            " - 3s - loss: 0.0653 - acc: 0.9763 - val_loss: 0.3129 - val_acc: 0.9198\n",
            "Epoch 23/50\n",
            " - 3s - loss: 0.0598 - acc: 0.9756 - val_loss: 0.3569 - val_acc: 0.8968\n",
            "Epoch 24/50\n",
            " - 3s - loss: 0.0606 - acc: 0.9777 - val_loss: 0.3265 - val_acc: 0.9054\n",
            "Epoch 25/50\n",
            " - 3s - loss: 0.0558 - acc: 0.9792 - val_loss: 0.3250 - val_acc: 0.9255\n",
            "Epoch 26/50\n",
            " - 3s - loss: 0.0540 - acc: 0.9770 - val_loss: 0.3369 - val_acc: 0.8997\n",
            "Epoch 27/50\n",
            " - 3s - loss: 0.0602 - acc: 0.9770 - val_loss: 0.3169 - val_acc: 0.9198\n",
            "Epoch 28/50\n",
            " - 3s - loss: 0.0597 - acc: 0.9785 - val_loss: 0.3340 - val_acc: 0.8940\n",
            "Epoch 29/50\n",
            " - 3s - loss: 0.0625 - acc: 0.9785 - val_loss: 0.3234 - val_acc: 0.9140\n",
            "Epoch 30/50\n",
            " - 3s - loss: 0.0492 - acc: 0.9777 - val_loss: 0.3542 - val_acc: 0.9026\n",
            "Epoch 31/50\n",
            " - 3s - loss: 0.0482 - acc: 0.9806 - val_loss: 0.3381 - val_acc: 0.9140\n",
            "Epoch 32/50\n",
            " - 3s - loss: 0.0465 - acc: 0.9842 - val_loss: 0.3461 - val_acc: 0.9083\n",
            "Epoch 33/50\n",
            " - 3s - loss: 0.0451 - acc: 0.9835 - val_loss: 0.3337 - val_acc: 0.9255\n",
            "Epoch 34/50\n",
            " - 3s - loss: 0.0503 - acc: 0.9813 - val_loss: 0.3287 - val_acc: 0.9226\n",
            "Epoch 35/50\n",
            " - 3s - loss: 0.0628 - acc: 0.9842 - val_loss: 0.3606 - val_acc: 0.9112\n",
            "Epoch 36/50\n",
            " - 3s - loss: 0.0458 - acc: 0.9813 - val_loss: 0.3409 - val_acc: 0.9255\n",
            "Epoch 37/50\n",
            " - 3s - loss: 0.0434 - acc: 0.9821 - val_loss: 0.3547 - val_acc: 0.9112\n",
            "Epoch 38/50\n",
            " - 3s - loss: 0.0490 - acc: 0.9770 - val_loss: 0.3719 - val_acc: 0.9026\n",
            "Epoch 39/50\n",
            " - 3s - loss: 0.0525 - acc: 0.9806 - val_loss: 0.3605 - val_acc: 0.9226\n",
            "Epoch 40/50\n",
            " - 3s - loss: 0.0508 - acc: 0.9806 - val_loss: 0.3647 - val_acc: 0.9226\n",
            "Epoch 41/50\n",
            " - 3s - loss: 0.0516 - acc: 0.9785 - val_loss: 0.3710 - val_acc: 0.9198\n",
            "Epoch 42/50\n",
            " - 3s - loss: 0.0358 - acc: 0.9885 - val_loss: 0.3845 - val_acc: 0.9226\n",
            "Epoch 43/50\n",
            " - 3s - loss: 0.0608 - acc: 0.9799 - val_loss: 0.3382 - val_acc: 0.9226\n",
            "Epoch 44/50\n",
            " - 3s - loss: 0.0372 - acc: 0.9849 - val_loss: 0.4032 - val_acc: 0.9169\n",
            "Epoch 45/50\n",
            " - 3s - loss: 0.0503 - acc: 0.9792 - val_loss: 0.3451 - val_acc: 0.8968\n",
            "Epoch 46/50\n",
            " - 3s - loss: 0.0433 - acc: 0.9864 - val_loss: 0.3978 - val_acc: 0.9198\n",
            "Epoch 47/50\n",
            " - 3s - loss: 0.0445 - acc: 0.9806 - val_loss: 0.3643 - val_acc: 0.9169\n",
            "Epoch 48/50\n",
            " - 3s - loss: 0.0498 - acc: 0.9842 - val_loss: 0.3715 - val_acc: 0.9226\n",
            "Epoch 49/50\n",
            " - 3s - loss: 0.0435 - acc: 0.9828 - val_loss: 0.3747 - val_acc: 0.9140\n",
            "Epoch 50/50\n",
            " - 3s - loss: 0.0444 - acc: 0.9799 - val_loss: 0.3754 - val_acc: 0.9255\n"
          ],
          "name": "stdout"
        },
        {
          "output_type": "display_data",
          "data": {
            "image/png": "[encoded data removed]",
            "text/plain": [
              "<Figure size 432x288 with 2 Axes>"
            ]
          },
          "metadata": {
            "tags": []
          }
        }
      ]
    },
    {
      "cell_type": "code",
      "metadata": {
        "id": "nKfH1A4zVzPu",
        "colab_type": "code",
        "colab": {}
      },
      "source": [
        ""
      ],
      "execution_count": 0,
      "outputs": []
    },
    {
      "cell_type": "code",
      "metadata": {
        "id": "5m7NHbO0VydG",
        "colab_type": "code",
        "colab": {}
      },
      "source": [
        ""
      ],
      "execution_count": 0,
      "outputs": []
    },
    {
      "cell_type": "code",
      "metadata": {
        "id": "AcR3PVymVxmj",
        "colab_type": "code",
        "colab": {}
      },
      "source": [
        ""
      ],
      "execution_count": 0,
      "outputs": []
    }
  ]
}